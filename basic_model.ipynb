{
 "cells": [
  {
   "cell_type": "code",
   "execution_count": 3,
   "metadata": {},
   "outputs": [
    {
     "name": "stdout",
     "output_type": "stream",
     "text": [
      "Distributed package is installed: True\n",
      "CUDA package is installed: True\n",
      "\n",
      "Available GPUs: 1\n",
      "Device IDs: [0]\n"
     ]
    }
   ],
   "source": [
    "import torch\n",
    "import torch.nn as nn\n",
    "\n",
    "\n",
    "print(f\"Distributed package is installed: \"+str(torch.distributed.is_available()))\n",
    "print(f\"CUDA package is installed: \"+str(torch.cuda.is_available()))\n",
    "\n",
    "if torch.cuda.is_available():\n",
    "    print(f\"\\nAvailable GPUs: \"+str(torch.cuda.device_count()))\n",
    "    # Make a dynamic list for identifying available GPUS on a system\n",
    "    available_devices = torch.cuda.device_count()\n",
    "    d_ids = []\n",
    "    for i in range(0,available_devices):\n",
    "        d_ids.append(int(i))\n",
    "    print(f\"Device IDs: \"+str(d_ids))"
   ]
  },
  {
   "cell_type": "markdown",
   "metadata": {},
   "source": [
    "## Creating an Example Model"
   ]
  },
  {
   "cell_type": "code",
   "execution_count": null,
   "metadata": {},
   "outputs": [],
   "source": []
  }
 ],
 "metadata": {
  "interpreter": {
   "hash": "916dbcbb3f70747c44a77c7bcd40155683ae19c65e1c03b4aa3499c5328201f1"
  },
  "kernelspec": {
   "display_name": "Python 3.8.10 64-bit",
   "name": "python3"
  },
  "language_info": {
   "codemirror_mode": {
    "name": "ipython",
    "version": 3
   },
   "file_extension": ".py",
   "mimetype": "text/x-python",
   "name": "python",
   "nbconvert_exporter": "python",
   "pygments_lexer": "ipython3",
   "version": "3.8.10"
  },
  "orig_nbformat": 4
 },
 "nbformat": 4,
 "nbformat_minor": 2
}
